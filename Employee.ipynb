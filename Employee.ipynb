{
 "cells": [
  {
   "cell_type": "markdown",
   "id": "483861dc",
   "metadata": {},
   "source": [
    "# Employee Sentiment Analysis\n",
    "This notebook analyzes employee emails to assess sentiment, identify top-performing and at-risk employees, and predict engagement trends using NLP and machine learning."
   ]
  },
  {
   "cell_type": "markdown",
   "id": "432543c8",
   "metadata": {},
   "source": [
    "## 1. Sentiment Labeling\n",
    "Used VADER from NLTK to classify each message as Positive, Negative, or Neutral based on compound scores:\n",
    "- Compound > 0.05 → Positive\n",
    "- Compound < -0.05 → Negative\n",
    "- Otherwise → Neutral\n",
    "\n",
    "Labeled sentiments are saved to `test_labeled.csv`."
   ]
  },
  {
   "cell_type": "code",
   "execution_count": 9,
   "id": "187bf85b",
   "metadata": {},
   "outputs": [
    {
     "name": "stderr",
     "output_type": "stream",
     "text": [
      "[nltk_data] Downloading package vader_lexicon to C:\\Users\\Kunal\n",
      "[nltk_data]     Vishwa\\AppData\\Roaming\\nltk_data...\n",
      "[nltk_data]   Package vader_lexicon is already up-to-date!\n"
     ]
    }
   ],
   "source": [
    "import pandas as pd\n",
    "from nltk.sentiment.vader import SentimentIntensityAnalyzer\n",
    "import nltk\n",
    "nltk.download('vader_lexicon')\n",
    "\n",
    "# Load data\n",
    "df = pd.read_csv(\"test(in).csv\")\n",
    "\n",
    "# Initialize VADER\n",
    "sia = SentimentIntensityAnalyzer()\n",
    "\n",
    "def get_sentiment(text):\n",
    "    if pd.isna(text): return \"Neutral\"\n",
    "    score = sia.polarity_scores(text)['compound']\n",
    "    if score >= 0.05:\n",
    "        return \"Positive\"\n",
    "    elif score <= -0.05:\n",
    "        return \"Negative\"\n",
    "    else:\n",
    "        return \"Neutral\"\n",
    "\n",
    "# Apply sentiment\n",
    "df['sentiment_label'] = df['body'].apply(get_sentiment)"
   ]
  },
  {
   "cell_type": "markdown",
   "id": "ea8740d8",
   "metadata": {},
   "source": [
    "## 2. Exploratory Data Analysis (EDA)\n",
    "Explored the dataset for trends and distributions:\n",
    "- **Sentiment Distribution** shows most emails are positive.\n",
    "- **Monthly Trends** show fluctuation in engagement.\n",
    "- **Top 10 Active Employees** are mostly Enron-related.\n",
    "- **Word Count** peaks below 100.\n",
    "\n",
    "Visualizations are saved in the `visualization/` folder."
   ]
  },
  {
   "cell_type": "code",
   "execution_count": 10,
   "id": "69e9e2ad",
   "metadata": {},
   "outputs": [],
   "source": [
    "import os\n",
    "import matplotlib.pyplot as plt\n",
    "\n",
    "os.makedirs(\"outputs\", exist_ok=True)\n",
    "os.makedirs(\"visualization\", exist_ok=True)\n",
    "\n",
    "# Sentiment trend by month\n",
    "# Ensure 'date' column is in datetime format\n",
    "df['date'] = pd.to_datetime(df['date'], errors='coerce')\n",
    "\n",
    "# Now it's safe to extract the month period\n",
    "df['month'] = df['date'].dt.to_period('M')\n",
    "\n",
    "sentiment_monthly = df.groupby(['month', 'sentiment_label']).size().unstack().fillna(0)\n",
    "\n",
    "sentiment_monthly.plot(kind='line', figsize=(10,5), title=\"Monthly Sentiment Trend\")\n",
    "plt.ylabel(\"Message Count\")\n",
    "plt.xlabel(\"Month\")\n",
    "plt.tight_layout()\n",
    "plt.savefig(\"visualization/monthly_sentiment_trend.png\")\n",
    "plt.close()\n",
    "\n",
    "# Message count per employee (top 10)\n",
    "top_employees = df['from'].value_counts().head(10)\n",
    "top_employees.plot(kind='barh', title='Top 10 Most Active Employees', color='skyblue')\n",
    "plt.xlabel(\"Message Count\")\n",
    "plt.tight_layout()\n",
    "plt.savefig(\"visualization/top_10_employees.png\")\n",
    "plt.close()\n",
    "\n",
    "# Word count distribution\n",
    "df['word_count'] = df['body'].fillna(\"\").apply(lambda x: len(x.split()))\n",
    "plt.hist(df['word_count'], bins=50, color='purple')\n",
    "plt.title(\"Distribution of Word Counts\")\n",
    "plt.xlabel(\"Word Count\")\n",
    "plt.ylabel(\"Frequency\")\n",
    "plt.tight_layout()\n",
    "plt.savefig(\"visualization/word_count_distribution.png\")\n",
    "plt.close()\n"
   ]
  },
  {
   "cell_type": "markdown",
   "id": "40816723",
   "metadata": {},
   "source": [
    "## 3. Monthly Sentiment Score\n",
    "Each message scored as:\n",
    "- +1 for Positive\n",
    "- -1 for Negative\n",
    "- 0 for Neutral\n",
    "\n",
    "Scores grouped by employee and month, saved to `monthly_scores.csv`."
   ]
  },
  {
   "cell_type": "code",
   "execution_count": 11,
   "id": "e46b980c",
   "metadata": {},
   "outputs": [],
   "source": [
    "def score_mapper(label):\n",
    "    return {\"Positive\": 1, \"Negative\": -1, \"Neutral\": 0}[label]\n",
    "\n",
    "df['score'] = df['sentiment_label'].map(score_mapper)\n",
    "df['month'] = df['date'].dt.to_period('M')\n",
    "df['employee'] = df['from']\n",
    "\n",
    "monthly_scores = df.groupby(['employee', 'month'])['score'].sum().reset_index()"
   ]
  },
  {
   "cell_type": "markdown",
   "id": "e5205d83",
   "metadata": {},
   "source": [
    "## 4. Employee Ranking\n",
    "Ranked employees by monthly sentiment score.\n",
    "- `top_3_positive.csv` has highest scoring employees.\n",
    "- `top_3_negative.csv` has lowest scoring employees.\n",
    "\n",
    "Sorting was by score (descending) and then alphabetically."
   ]
  },
  {
   "cell_type": "code",
   "execution_count": 12,
   "id": "e9a981bb",
   "metadata": {},
   "outputs": [],
   "source": [
    "# Top 3 Positive\n",
    "top_pos = monthly_scores.sort_values(['month','score','employee'], ascending=[True, False, True])\n",
    "top_3_pos = top_pos.groupby('month').head(3)\n",
    "\n",
    "# Top 3 Negative\n",
    "top_neg = monthly_scores.sort_values(['month','score','employee'], ascending=[True, True, True])\n",
    "top_3_neg = top_neg.groupby('month').head(3)\n"
   ]
  },
  {
   "cell_type": "markdown",
   "id": "42ecbf5f",
   "metadata": {},
   "source": [
    "## 5. Flight Risk Identification\n",
    "Employees flagged if they sent **≥ 4 negative messages** in any rolling 30-day window.\n",
    "- This approach uses rolling windows without month boundaries.\n",
    "- Flagged list saved in `flight_risks.csv`."
   ]
  },
  {
   "cell_type": "code",
   "execution_count": 13,
   "id": "1fcf2761",
   "metadata": {},
   "outputs": [],
   "source": [
    "# Get only negative messages\n",
    "df_neg = df[df['sentiment_label'] == 'Negative'][['employee', 'date']].sort_values(['employee','date'])\n",
    "\n",
    "# Rolling 30-day window count\n",
    "flight_risk = []\n",
    "\n",
    "for emp, group in df_neg.groupby('employee'):\n",
    "    dates = group['date'].tolist()\n",
    "    for i in range(len(dates)):\n",
    "        count = sum((dates[i] - d).days <= 30 and (dates[i] - d).days >= 0 for d in dates[max(0,i-10):i+1])\n",
    "        if count >= 4:\n",
    "            flight_risk.append(emp)\n",
    "            break\n",
    "\n",
    "flight_risk = list(set(flight_risk))"
   ]
  },
  {
   "cell_type": "markdown",
   "id": "906cfa27",
   "metadata": {},
   "source": [
    "## 6. Predictive Modeling\n",
    "Built a **Linear Regression** model to predict sentiment score:\n",
    "- Features used: number of messages, average message length.\n",
    "- Evaluated using MSE and R².\n",
    "\n",
    "Model showed moderate predictive ability."
   ]
  },
  {
   "cell_type": "code",
   "execution_count": 15,
   "id": "0aaa6e08",
   "metadata": {},
   "outputs": [
    {
     "name": "stdout",
     "output_type": "stream",
     "text": [
      "Linear Regression Evaluation\n",
      "MSE: 3.3496574465159115\n",
      "R^2: 0.7183250937343457\n"
     ]
    }
   ],
   "source": [
    "from sklearn.linear_model import LinearRegression\n",
    "from sklearn.model_selection import train_test_split\n",
    "from sklearn.metrics import mean_squared_error, r2_score\n",
    "\n",
    "# Feature Engineering\n",
    "# Ensure message length column exists\n",
    "df['msg_length'] = df['body'].str.len()\n",
    "features = df.groupby(['employee','month']).agg({\n",
    "    'score': 'sum',\n",
    "    'msg_length': 'mean',\n",
    "    'body': 'count'\n",
    "}).reset_index()\n",
    "\n",
    "features.rename(columns={'body': 'msg_count', 'msg_length': 'avg_length'}, inplace=True)\n",
    "\n",
    "X = features[['msg_count', 'avg_length']]\n",
    "y = features['score']\n",
    "\n",
    "X_train, X_test, y_train, y_test = train_test_split(X, y, test_size=0.2, random_state=42)\n",
    "\n",
    "model = LinearRegression()\n",
    "model.fit(X_train, y_train)\n",
    "y_pred = model.predict(X_test)\n",
    "\n",
    "# Evaluation\n",
    "mse = mean_squared_error(y_test, y_pred)\n",
    "r2 = r2_score(y_test, y_pred)\n",
    "\n",
    "print(\"Linear Regression Evaluation\")\n",
    "print(\"MSE:\", mse)\n",
    "print(\"R^2:\", r2)\n",
    "\n",
    "# Save labeled data\n",
    "df.to_csv(\"outputs/test_labeled.csv\", index=False)\n",
    "# Save scores and rankings\n",
    "monthly_scores.to_csv(\"outputs/monthly_scores.csv\", index=False)\n",
    "top_3_pos.to_csv(\"outputs/top_3_positive.csv\", index=False)\n",
    "top_3_neg.to_csv(\"outputs/top_3_negative.csv\", index=False)\n",
    "pd.DataFrame(flight_risk, columns=['employee']).to_csv(\"outputs/flight_risks.csv\", index=False)"
   ]
  },
  {
   "cell_type": "markdown",
   "id": "4c89425e",
   "metadata": {},
   "source": [
    "## 7. Conclusion\n",
    "- Most messages were positive, indicating good engagement.\n",
    "- Temporal patterns helped detect flight risks early.\n",
    "- Predictive model works but can be enhanced with richer features."
   ]
  }
 ],
 "metadata": {
  "kernelspec": {
   "display_name": "Python 3",
   "language": "python",
   "name": "python3"
  },
  "language_info": {
   "codemirror_mode": {
    "name": "ipython",
    "version": 3
   },
   "file_extension": ".py",
   "mimetype": "text/x-python",
   "name": "python",
   "nbconvert_exporter": "python",
   "pygments_lexer": "ipython3",
   "version": "3.11.7"
  }
 },
 "nbformat": 4,
 "nbformat_minor": 5
}
